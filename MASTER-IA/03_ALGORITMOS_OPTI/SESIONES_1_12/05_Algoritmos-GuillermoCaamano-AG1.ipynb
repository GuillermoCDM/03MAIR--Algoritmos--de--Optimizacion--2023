{
 "cells": [
  {
   "cell_type": "markdown",
   "id": "eedbee3a-ce6d-430a-ba6c-e76bb120f618",
   "metadata": {},
   "source": [
    "# ACTIVIDAD GUIADA 1\n",
    "### GUILLERMO CAAMAÑO DE MELO\n",
    "https://github.com/GuillermoCDM/03MAIR--Algoritmos--de--Optimizacion--2023"
   ]
  },
  {
   "cell_type": "markdown",
   "id": "6a465114-bba0-43de-afbe-94d92fded72e",
   "metadata": {},
   "source": [
    "### 1.- EJERCICIOS DE TORRES DE HANOIK CON RECURSIVIDAD"
   ]
  },
  {
   "cell_type": "code",
   "execution_count": 1,
   "id": "c55c8514-a526-45a4-b9f0-1ed3553a678a",
   "metadata": {},
   "outputs": [
    {
     "name": "stdout",
     "output_type": "stream",
     "text": [
      "mover bloque desde 1 a 2\n",
      "mover bloque desde 1 a 3\n",
      "mover bloque desde 2 a 3\n",
      "mover bloque desde 1 a 2\n",
      "mover bloque desde 3 a 1\n",
      "mover bloque desde 3 a 2\n",
      "mover bloque desde 1 a 2\n",
      "mover bloque desde 1 a 3\n",
      "mover bloque desde 2 a 3\n",
      "mover bloque desde 2 a 1\n",
      "mover bloque desde 3 a 1\n",
      "mover bloque desde 2 a 3\n",
      "mover bloque desde 1 a 2\n",
      "mover bloque desde 1 a 3\n",
      "mover bloque desde 2 a 3\n"
     ]
    }
   ],
   "source": [
    "def torres_hanoi(N, origen, destino, pivote):\n",
    "    if N == 1:\n",
    "        print(f'mover bloque desde {origen} a {destino}')\n",
    "    else:\n",
    "        torres_hanoi(N-1, origen, pivote, destino)\n",
    "        print(f'mover bloque desde {origen} a {destino}')\n",
    "        torres_hanoi(N-1, pivote, destino, origen)\n",
    "        \n",
    "torres_hanoi(4, 1, 3, 2)    "
   ]
  },
  {
   "cell_type": "markdown",
   "id": "4d03af17-2072-407c-b037-96a68db0ba38",
   "metadata": {},
   "source": [
    "complejidad del algoritmo __$2^{n-1}$__ "
   ]
  },
  {
   "cell_type": "markdown",
   "id": "c59e8c6a-1516-4ccd-9064-e434c766b143",
   "metadata": {},
   "source": [
    "### Técnica voraz : cambio a monedas"
   ]
  },
  {
   "cell_type": "code",
   "execution_count": 3,
   "id": "b92918e3-e9e2-49a4-9a04-15099521f135",
   "metadata": {},
   "outputs": [
    {
     "name": "stdout",
     "output_type": "stream",
     "text": [
      "{2: 44, 1: 1, 0.5: 0, 0.2: 1, 0.1: 0, 0.05: 0, 0.02: 1, 0.01: 1}\n"
     ]
    }
   ],
   "source": [
    "def cambio_monedas(money, lista_monedas):\n",
    "    \n",
    "    sol = {moneda : 0 for moneda in lista_monedas}\n",
    "    \n",
    "    for index in sol:\n",
    "        if round(money,2) >= index:\n",
    "            sol[index] = int((round(money,2) // index))\n",
    "            money = round(money,2) - (round(money,2) // index) * index\n",
    "            \n",
    "    return sol\n",
    "        \n",
    "print(cambio_monedas(89.23,[2,1,0.5,0.2,0.1,0.05,0.02,0.01]))"
   ]
  },
  {
   "cell_type": "code",
   "execution_count": 5,
   "id": "e4b20acb-45a9-4106-bae2-f0d96b2b2f56",
   "metadata": {},
   "outputs": [
    {
     "name": "stdout",
     "output_type": "stream",
     "text": [
      "SISTEMA: \n",
      "[2, 1, 0.5, 0.2, 0.1, 0.05, 0.02, 0.01]\n",
      "[44, 1, 0, 1, 0, 0, 1, 1]\n"
     ]
    }
   ],
   "source": [
    "def cambio_moneda(CANTIDAD, SISTEMA):\n",
    "    print('SISTEMA: ')\n",
    "    print(SISTEMA)\n",
    "    \n",
    "    SOLUCION = [0 for i in range(len(SISTEMA))]\n",
    "    VALOR_ACUMULADO = 0\n",
    "    \n",
    "    for i in range(len(SISTEMA)):\n",
    "        monedas = int((CANTIDAD - VALOR_ACUMULADO)/SISTEMA[i])\n",
    "        SOLUCION[i] = monedas\n",
    "        VALOR_ACUMULADO += monedas * SISTEMA[i]\n",
    "        if VALOR_ACUMULADO == CANTIDAD: break\n",
    "    \n",
    "    return SOLUCION\n",
    "\n",
    "print(cambio_moneda(89.23,[2,1,0.5,0.2,0.1,0.05,0.02,0.01]))    \n",
    "        "
   ]
  },
  {
   "cell_type": "code",
   "execution_count": null,
   "id": "642e5503-6cbe-49b6-8076-bbe193711db2",
   "metadata": {},
   "outputs": [],
   "source": []
  }
 ],
 "metadata": {
  "kernelspec": {
   "display_name": "Python 3 (ipykernel)",
   "language": "python",
   "name": "python3"
  },
  "language_info": {
   "codemirror_mode": {
    "name": "ipython",
    "version": 3
   },
   "file_extension": ".py",
   "mimetype": "text/x-python",
   "name": "python",
   "nbconvert_exporter": "python",
   "pygments_lexer": "ipython3",
   "version": "3.10.9"
  }
 },
 "nbformat": 4,
 "nbformat_minor": 5
}
